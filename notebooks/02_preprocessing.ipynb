{
 "cells": [
  {
   "cell_type": "markdown",
   "id": "76c7aaaa",
   "metadata": {},
   "source": [
    "# 1. Preprocess Data for stock value"
   ]
  },
  {
   "cell_type": "code",
   "execution_count": 23,
   "id": "ea503cca",
   "metadata": {},
   "outputs": [
    {
     "data": {
      "text/plain": [
       "504"
      ]
     },
     "execution_count": 23,
     "metadata": {},
     "output_type": "execute_result"
    }
   ],
   "source": [
    "import pandas as pd\n",
    "\n",
    "df_price_raw = pd.read_csv(\"../data/price/aapl.csv\", parse_dates=[\"Date\"])\n",
    "\n",
    "df_price_copy = df_price_raw\n",
    "# Handling missing value\n",
    "df_price_copy.isnull().sum()\n",
    "len(df_price_copy)"
   ]
  },
  {
   "cell_type": "code",
   "execution_count": 24,
   "id": "80392c12",
   "metadata": {},
   "outputs": [],
   "source": [
    "# Remove outliers\n",
    "df_price_copy = df_price_copy[df_price_copy[\"Close\"] < df_price_copy[\"Close\"].quantile(0.99)]\n"
   ]
  },
  {
   "cell_type": "code",
   "execution_count": 26,
   "id": "4e43e9b4",
   "metadata": {},
   "outputs": [
    {
     "data": {
      "text/plain": [
       "498"
      ]
     },
     "execution_count": 26,
     "metadata": {},
     "output_type": "execute_result"
    }
   ],
   "source": [
    "len(df_price_copy)"
   ]
  },
  {
   "cell_type": "code",
   "execution_count": null,
   "id": "0162dc5c",
   "metadata": {},
   "outputs": [],
   "source": []
  }
 ],
 "metadata": {
  "kernelspec": {
   "display_name": "datasci",
   "language": "python",
   "name": "python3"
  },
  "language_info": {
   "codemirror_mode": {
    "name": "ipython",
    "version": 3
   },
   "file_extension": ".py",
   "mimetype": "text/x-python",
   "name": "python",
   "nbconvert_exporter": "python",
   "pygments_lexer": "ipython3",
   "version": "3.10.16"
  }
 },
 "nbformat": 4,
 "nbformat_minor": 5
}
