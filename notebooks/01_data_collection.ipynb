{
 "cells": [
  {
   "cell_type": "markdown",
   "id": "e352b3f1",
   "metadata": {},
   "source": [
    "# 1 Understanding Problem\n",
    "\n",
    "Goal: Predict stock market, specifically APPLE for highly recommendation."
   ]
  },
  {
   "cell_type": "markdown",
   "id": "8652f1f4",
   "metadata": {},
   "source": [
    "# 2 Scraping data"
   ]
  },
  {
   "cell_type": "markdown",
   "id": "b99f678a",
   "metadata": {},
   "source": [
    "## 2.1 Apple Stock Price Collection"
   ]
  },
  {
   "cell_type": "code",
   "execution_count": 48,
   "id": "af575ad1",
   "metadata": {},
   "outputs": [],
   "source": [
    "import yfinance as yf\n",
    "\n",
    "aapl = yf.Ticker(\"AAPL\")\n",
    "hist = aapl.history(start=\"2014-01-01\", end=\"2016-01-01\", interval=\"1d\")\n",
    "hist.to_csv(\"../data/price/aapl.csv\")\n"
   ]
  },
  {
   "cell_type": "markdown",
   "id": "fb21a7e9",
   "metadata": {},
   "source": [
    "## 2.2 Sentiment Data Collection (News and Social Media)"
   ]
  },
  {
   "cell_type": "markdown",
   "id": "e007aa17",
   "metadata": {},
   "source": [
    "Sentiment data is already stored in data/tweet with format of json file"
   ]
  }
 ],
 "metadata": {
  "kernelspec": {
   "display_name": "datasci",
   "language": "python",
   "name": "python3"
  },
  "language_info": {
   "codemirror_mode": {
    "name": "ipython",
    "version": 3
   },
   "file_extension": ".py",
   "mimetype": "text/x-python",
   "name": "python",
   "nbconvert_exporter": "python",
   "pygments_lexer": "ipython3",
   "version": "3.10.16"
  }
 },
 "nbformat": 4,
 "nbformat_minor": 5
}
