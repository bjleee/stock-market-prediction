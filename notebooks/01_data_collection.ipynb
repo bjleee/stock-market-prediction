{
 "cells": [
  {
   "cell_type": "markdown",
   "id": "e352b3f1",
   "metadata": {},
   "source": [
    "# 01 Understanding Problem\n",
    "\n",
    "Goal: Predict stock market, specifically APPLE for highly recommendation."
   ]
  },
  {
   "cell_type": "markdown",
   "id": "8652f1f4",
   "metadata": {},
   "source": [
    "# 02 Scraping data"
   ]
  }
 ],
 "metadata": {
  "language_info": {
   "name": "python"
  }
 },
 "nbformat": 4,
 "nbformat_minor": 5
}
